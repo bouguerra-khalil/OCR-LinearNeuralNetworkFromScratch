{
 "cells": [
  {
   "cell_type": "markdown",
   "metadata": {
    "colab_type": "text",
    "id": "iafPdtuncbq7"
   },
   "source": [
    "<h2><center>MNIST classification using Numpy</center></h2>\n",
    "\n"
   ]
  },
  {
   "cell_type": "code",
   "execution_count": 4,
   "metadata": {
    "colab": {
     "base_uri": "https://localhost:8080/",
     "height": 52
    },
    "colab_type": "code",
    "id": "OlKZ3Hnas7B4",
    "outputId": "7c933fbc-b824-40af-9ecf-c71db9769bec"
   },
   "outputs": [
    {
     "name": "stdout",
     "output_type": "stream",
     "text": [
      "Using tensorflow version 2.3.1\n",
      "Using keras version 2.4.3\n"
     ]
    }
   ],
   "source": [
    "import numpy as np\n",
    "# Importing the Keras main module forcing tensorflow 1.x backend\n",
    "import tensorflow as tf\n",
    "import keras\n",
    "print(\"Using tensorflow version \" + str(tf.__version__))\n",
    "print(\"Using keras version \" + str(keras.__version__))"
   ]
  },
  {
   "cell_type": "markdown",
   "metadata": {
    "colab_type": "text",
    "id": "s_QLz9_jbRZq"
   },
   "source": [
    "# Loading and preparing the MNIST dataset\n"
   ]
  },
  {
   "cell_type": "code",
   "execution_count": 5,
   "metadata": {
    "cellView": "both",
    "colab": {},
    "colab_type": "code",
    "id": "gG83hGyVmijn"
   },
   "outputs": [
    {
     "name": "stdout",
     "output_type": "stream",
     "text": [
      "Downloading data from https://storage.googleapis.com/tensorflow/tf-keras-datasets/mnist.npz\n",
      "11493376/11490434 [==============================] - 3s 0us/step\n"
     ]
    }
   ],
   "source": [
    "#@title\n",
    "# The MNSIT dataset is ready to be imported from Keras into RAM\n",
    "from keras.datasets import mnist\n",
    "\n",
    "(train_images, y_train), (test_images, y_test) = mnist.load_data()\n",
    "categorical=False \n",
    "normalized=False \n",
    "reshaped=False  \n"
   ]
  },
  {
   "cell_type": "markdown",
   "metadata": {
    "colab_type": "text",
    "id": "gRPbU_Z4U6Ac"
   },
   "source": [
    "The MNIST database contains 60,000 training images and 10,000 testing images.\n",
    "Using the pyplot package, we visualize the fist sample of the training set:"
   ]
  },
  {
   "cell_type": "code",
   "execution_count": 6,
   "metadata": {
    "colab": {
     "base_uri": "https://localhost:8080/",
     "height": 265
    },
    "colab_type": "code",
    "id": "x5VAu7oW0Zu4",
    "outputId": "07fc28ab-e748-46bd-b9a4-9245ca56be2c"
   },
   "outputs": [
    {
     "data": {
      "image/png": "[encoded data removed]",
      "text/plain": [
       "<Figure size 432x288 with 1 Axes>"
      ]
     },
     "metadata": {
      "needs_background": "light"
     },
     "output_type": "display_data"
    }
   ],
   "source": [
    "# Let us visualize the first training sample using the Gnuplot library\n",
    "from matplotlib import pyplot as plt\n",
    "%matplotlib inline\n",
    "image = train_images[1]\n",
    "fig = plt.figure\n",
    "plt.imshow(image, cmap='gray')\n",
    "plt.show()\n",
    "\n"
   ]
  },
  {
   "cell_type": "markdown",
   "metadata": {
    "colab_type": "text",
    "id": "s7YsRekMVDg-"
   },
   "source": [
    "The database contains images of handwritten digits. Hence, they belong to one of 10 categories, depending on the digit they represent. \n",
    "\n",
    "In order to do multi-class classification, we use the softmax function, which outputs a multinomial probability distribution. That means that the output to our model will be a vector of size $10$, containing probabilities (meaning that the elements of the vector will be positive sum to $1$).\n",
    "For easy computation, we want to true labels to be represented with the same format: that is what we call **one-hot encoding**. For example, if an image $\\mathbf{x}$ represents the digit $5$, we have the corresponding one_hot label (careful, $0$ will be the first digit): \n",
    "$$ \\mathbf{y} = [0, 0, 0, 0, 0, 1, 0, 0, 0, 0] $$\n",
    "Here, we need to turn train and test labels to one-hot encoding using the following function: "
   ]
  },
  {
   "cell_type": "code",
   "execution_count": 7,
   "metadata": {
    "colab": {},
    "colab_type": "code",
    "id": "lQbkllF8mnaf"
   },
   "outputs": [],
   "source": [
    "from keras.utils.np_utils import to_categorical\n",
    "if(not categorical):\n",
    "  categorical=True # to avoid runing this cell multiple times !!!\n",
    "  y_train=to_categorical(y_train,num_classes=10, dtype='int32')\n",
    "  y_test=to_categorical(y_test,num_classes=10, dtype='int32')\n"
   ]
  },
  {
   "cell_type": "markdown",
   "metadata": {
    "colab_type": "text",
    "id": "0jv29YLtVO3q"
   },
   "source": [
    "Images are black and white, with size $28 \\times 28$. We will work with them using a simple linear classification model, meaning that we will have them as vectors of size $(784)$.\n",
    "We should then transform the images to the size $(784)$ using the numpy function ```reshape```,\n",
    "\n",
    "Then, after casting the pixels to floats, we normalize the images so that they have zero-mean and unitary deviation."
   ]
  },
  {
   "cell_type": "code",
   "execution_count": 8,
   "metadata": {
    "colab": {
     "base_uri": "https://localhost:8080/",
     "height": 34
    },
    "colab_type": "code",
    "id": "ptTRSDo5nJyZ",
    "outputId": "35bc40d6-7a47-4a57-aac4-82de779266f0"
   },
   "outputs": [
    {
     "name": "stdout",
     "output_type": "stream",
     "text": [
      "(60000, 784) (10000, 784)\n"
     ]
    }
   ],
   "source": [
    "# Reshape to proper images with 1 color channel according to backend scheme\n",
    "# img_rows, img_cols = train_images.shape[1], train_images.shape[2]\n",
    "# train_images = train_images.reshape(...)\n",
    "\n",
    "\n",
    "if( not reshaped):\n",
    "  reshaped= True \n",
    "  (nbrOfImg, img_row,img_col)= train_images.shape\n",
    "  train_images=train_images.reshape([nbrOfImg, img_row*img_col])\n",
    "  (nbrOfImg, img_row,img_col)= test_images.shape\n",
    "  test_images=test_images.reshape([nbrOfImg, img_row*img_col])\n",
    "  print(train_images.shape,test_images.shape)\n",
    "\n",
    "# Cast pixels from uint8 to float32\n",
    "# train_images = train_images.astype('float32')\n",
    "# Now let us normalize the images so that they have zero mean and standard deviation\n",
    "\n",
    "\n",
    "if( not normalized):\n",
    "  train_images = train_images.astype('float32')\n",
    "  test_images = test_images.astype('float32')\n",
    "  train_images= (train_images-train_images.mean())/train_images.std()\n",
    "  test_images= (test_images-test_images.mean())/test_images.std()\n",
    "\n"
   ]
  },
  {
   "cell_type": "markdown",
   "metadata": {
    "colab_type": "text",
    "id": "kmQsGqn7TIgt"
   },
   "source": [
    "\n",
    "## Defining the model \n",
    "\n",
    "We will here create a simple, linear classification model. We will take each pixel in the image as an input feature (making the size of the input to be $784$) and transform these features with a weight matrix $\\mathbf{W}$ and a bias vector $\\mathbf{b}$. Since there is $10$ possible classes, we want to obtain $10$ scores. Then, \n",
    "$$ \\mathbf{W} \\in \\mathbb{R}^{784 \\times 10} $$\n",
    "$$ \\mathbf{b} \\in \\mathbb{R}^{10} $$\n",
    "\n",
    "and our scores are obtained with:\n",
    "$$ \\mathbf{z} = \\mathbf{W}^{T} \\mathbf{x} +  \\mathbf{b} $$\n",
    "\n",
    "where $\\mathbf{x} \\in \\mathbb{R}^{784}$ is the input vector representing an image.\n",
    "We note $\\mathbf{y} \\in \\mathbb{R}^{10}$ as the target one_hot vector. \n",
    "\n",
    "Here, we fist need to initialize $\\mathbf{W}$ and $\\mathbf{b}$ using ```np.random.normal``` and ```np.zeros```, then compute $\\mathbf{z}$."
   ]
  },
  {
   "cell_type": "code",
   "execution_count": 0,
   "metadata": {
    "colab": {},
    "colab_type": "code",
    "id": "MzyOoo3uYpZK"
   },
   "outputs": [],
   "source": []
  },
  {
   "cell_type": "code",
   "execution_count": 9,
   "metadata": {
    "colab": {},
    "colab_type": "code",
    "id": "E0X8AM1YTIgv"
   },
   "outputs": [],
   "source": [
    "# To avoid implementing a complicated gradient back-propagation,\n",
    "# we will try a very simple architecture with no hidden layer \n",
    "def initLayer(n_input,n_output):\n",
    "    \"\"\"\n",
    "    Initialize the weights, return the number of parameters\n",
    "    Inputs: n_input: the number of input units - int\n",
    "          : n_output: the number of output units - int\n",
    "    Outputs: W: a matrix of weights for the layer - numpy ndarray\n",
    "           : b: a vector bias for the layer - numpy ndarray\n",
    "           : nb_params: the number of parameters  - int\n",
    "    \"\"\"\n",
    "    mu, sigma = 0, 1\n",
    "    W= np.random.normal(mu, sigma, (n_input,n_output))\n",
    "    b=np.zeros(n_output)\n",
    "    nb_params=n_input*n_output\n",
    "    return W, b, nb_params"
   ]
  },
  {
   "cell_type": "code",
   "execution_count": 10,
   "metadata": {
    "colab": {},
    "colab_type": "code",
    "id": "0MmqTlhVTIgz"
   },
   "outputs": [],
   "source": [
    "n_training = train_images.shape[0] \n",
    "n_feature =  train_images.shape[1]\n",
    "n_labels = 10\n",
    "W, b, nb_params = initLayer(n_feature, n_labels)\n"
   ]
  },
  {
   "cell_type": "code",
   "execution_count": 11,
   "metadata": {
    "colab": {},
    "colab_type": "code",
    "id": "9srIsOTcTIg7"
   },
   "outputs": [],
   "source": [
    "def forward(W, b, X):\n",
    "    \"\"\"\n",
    "    Perform the forward propagation\n",
    "    Inputs: W: the weights - numpy ndarray\n",
    "          : b: the bias - numpy ndarray\n",
    "          : X: the batch - numpy ndarray\n",
    "    Outputs: z: outputs - numpy ndarray\n",
    "    \"\"\"\n",
    "    z=[]\n",
    "    if (len(X.shape)==1):\n",
    "      #print(W.T.shape, X.shape , b.shape,)\n",
    "      #print(( b+np.dot(W.T,X)).shape)\n",
    "      return np.dot(W.T,X)+b\n",
    "    else:\n",
    "      for i in range(X.shape[0]):\n",
    "        x = X[i]\n",
    "        z.append(np.dot(W.T,x.T)+b)\n",
    "      z = np.array(z)\n",
    "      return z"
   ]
  },
  {
   "cell_type": "markdown",
   "metadata": {
    "colab_type": "text",
    "id": "Ha5idqYITIhA"
   },
   "source": [
    "## Computing the output \n",
    "\n",
    "To obtain classification probabilities, we use the softmax function:\n",
    "$$ \\mathbf{o} = softmax(\\mathbf{z}) \\text{         with          } o_i = \\frac{\\exp(z_i)}{\\sum_{j=0}^{9} \\exp(z_j)} $$\n",
    "\n",
    "The usual difficulty with the softmax function is the possibility of overflow when the scores $z_i$ are already large. Since a softmax is not affected by a shift affecting the whole vector $\\mathbf{z}$:\n",
    "$$ \\frac{\\exp(z_i - c)}{\\sum_{j=0}^{9} \\exp(z_j - c)} =  \\frac{\\exp(c) \\exp(z_i)}{\\exp(c) \\sum_{j=0}^{9} \\exp(z_j)} = \\frac{\\exp(z_i)}{\\sum_{j=0}^{9} \\exp(z_j)}$$\n"
   ]
  },
  {
   "cell_type": "code",
   "execution_count": 12,
   "metadata": {
    "colab": {},
    "colab_type": "code",
    "id": "8u6FVYVzTIhC"
   },
   "outputs": [],
   "source": [
    "\n",
    "def softmax(z,is_matrix=True):\n",
    "    \"\"\"\n",
    "    Perform the softmax transformation to the pre-activation values\n",
    "    Inputs: z: the pre-activation values - numpy ndarray\n",
    "    Outputs: out: the activation values - numpy ndarray\n",
    "    \"\"\"\n",
    "    if is_matrix:\n",
    "      z= z-np.max(z, axis=1, keepdims=True)\n",
    "      return np.exp(z)/np.sum(np.exp(z), axis=1, keepdims=True)\n",
    "    else:\n",
    "      z=z- np.max(z)\n",
    "      return np.exp(z)/np.sum(np.exp(z))\n",
    "  \n"
   ]
  },
  {
   "cell_type": "markdown",
   "metadata": {
    "colab_type": "text",
    "id": "6_EzoYoqTIhH"
   },
   "source": [
    "## Making updates\n",
    "\n",
    "We define a learning rate $\\eta$. The goal is to be able to apply updates:\n",
    "$$ \\mathbf{W}^{t+1} = \\mathbf{W}^{t} - \\nabla_{\\mathbf{W}} l_{ML} $$\n",
    "\n",
    "In order to do this, we will compute this gradient (and the bias) in the function ```update```. In the next function ```updateParams```, we will actually apply the update with regularization. \n",
    "\n",
    "Reminder: the gradient $\\nabla_{\\mathbf{W}} l_{ML}$ is the matrix containing the partial derivatives \n",
    "$$ \\left[\\frac{\\delta l_{ML}}{\\delta W_{ij}}\\right]_{i=1..784, j=1..10} $$\n",
    "\n",
    "\n",
    "Coordinate by coordinate, we obtain the following update: \n",
    "$$ W_{ij}^{t+1} = W_{ij}^{t} - \\frac{\\delta l_{ML}}{\\delta W_{ij}} $$\n",
    "\n",
    "Via the chain rule, we obtain, for an input feature $i \\in [0, 783]$ and a output class $j \\in [0, 9]$: $$\\frac{\\delta l_{ML}}{\\delta W_{ij}} = \\frac{\\delta l_{ML}}{\\delta z_{j}} \\frac{\\delta z_j}{\\delta W_{ij}}$$ \n",
    "\n",
    "It's easy to compute that $\\frac{\\delta z_j}{\\delta W_{ij}} = x_i$\n",
    "\n",
    "We compute the softmax derivative, to obtain:\n",
    "$$ \\nabla_{\\mathbf{z}} l_{ML} = \\mathbf{o} - \\mathbf{y} $$\n",
    "\n",
    "Hence, $\\frac{\\delta l_{ML}}{\\delta z_{j}} = o_j - y_j$ and we obtain that $$\\frac{\\delta l_{ML}}{\\delta W_{ij}} = (o_j - y_j) x_i$$\n",
    "\n",
    "This can easily be written as a scalar product, and a similar computation (even easier, actually) can be done for $\\mathbf{b}$. Noting $\\nabla_{\\mathbf{z}} l_{ML} = \\mathbf{o} - \\mathbf{y}$ as ```grad``` in the following function, compute the gradients $\\nabla_{\\mathbf{W}} l_{ML}$ and $\\nabla_{\\mathbf{b}} l_{ML}$ in order to call the function ```updateParams```.\n",
    "\n",
    "Note: the regularizer and the weight_decay $\\lambda$ are used in ```updateParams```."
   ]
  },
  {
   "cell_type": "code",
   "execution_count": 13,
   "metadata": {
    "colab": {},
    "colab_type": "code",
    "id": "oSB5k5zFTIhJ"
   },
   "outputs": [],
   "source": [
    "def update(eta, W, b, grad, X, regularizer, weight_decay):\n",
    "    \"\"\"\n",
    "    Perform the update of the parameters\n",
    "    Inputs: eta: the step-size of the gradient descent - float \n",
    "          : W: the weights - ndarray\n",
    "          : b: the bias -  ndarray\n",
    "          : grad: the gradient of the activations w.r.t. to the loss -  list of ndarray\n",
    "          : X: the data -  ndarray\n",
    "          : regularizer: 'L2' or None - the regularizer to be used in updateParams\n",
    "          : weight_decay: the weight decay to be used in updateParams - float\n",
    "    Outputs: W: the weights updated -  ndarray\n",
    "           : b: the bias updated -  ndarray\n",
    "    \"\"\"\n",
    "    grad_b = grad\n",
    "    grad=grad.reshape((grad.shape[0],1))\n",
    "    X=X.reshape((X.shape[0],1))\n",
    "    grad_w = np.dot(X,grad.T)\n",
    "    #print(\"b size \",b.shape,grad.shape)\n",
    "\n",
    "    W = updateParams(W, grad_w, eta, regularizer, weight_decay)\n",
    "    b = updateParams(b, grad_b, eta, regularizer, weight_decay)\n",
    "    return W, b"
   ]
  },
  {
   "cell_type": "markdown",
   "metadata": {
    "colab_type": "text",
    "id": "EvRlRKCjTIhN"
   },
   "source": [
    "The update rule is affected by regularization. We implement two cases: No regularization, or L2 regularization."
   ]
  },
  {
   "cell_type": "code",
   "execution_count": 14,
   "metadata": {
    "colab": {},
    "colab_type": "code",
    "id": "rX2V2fNwTIhO"
   },
   "outputs": [],
   "source": [
    "def updateParams(param, grad_param, eta, regularizer=None, weight_decay=0.):\n",
    "    \"\"\"\n",
    "    Perform the update of the parameters\n",
    "    Inputs: param: the network parameters - ndarray\n",
    "          : grad_param: the updates of the parameters - ndarray\n",
    "          : eta: the step-size of the gradient descent - float\n",
    "          : weight_decay: the weight-decay - float\n",
    "    Outputs: the parameters updated - ndarraya\n",
    "    \"\"\"\n",
    "    if regularizer==None:\n",
    "        #print(\"upadet param\",param.shape ,grad_param.shape,(param-eta*grad_param).shape)\n",
    "        return param-eta*grad_param\n",
    "    elif regularizer=='L2':\n",
    "        return  (1-weight_decay)*param-eta*grad_param\n",
    "    else:\n",
    "        raise NotImplementedError\n"
   ]
  },
  {
   "cell_type": "markdown",
   "metadata": {
    "colab_type": "text",
    "id": "lYGZn1tnTIhT"
   },
   "source": [
    "## Computing the Accuracy\n",
    "\n",
    "Here, we simply use the model to predict the class (by taking the argmax of the output !) for every example in ```X```, and count the number of times the model is right, to output the accuracy."
   ]
  },
  {
   "cell_type": "code",
   "execution_count": 15,
   "metadata": {
    "colab": {},
    "colab_type": "code",
    "id": "AMpJX-sYTIhZ"
   },
   "outputs": [],
   "source": [
    "def computeAcc(W, b, X, labels):\n",
    "    \"\"\"\n",
    "    Compute the loss value of the current network on the full batch\n",
    "    Inputs: act_func: the activation function - function\n",
    "          : W: the weights - list of ndarray\n",
    "          : B: the bias - list of ndarray\n",
    "          : X: the batch - ndarray\n",
    "          : labels: the labels corresponding to the batch\n",
    "    Outputs: loss: the negative log-likelihood - float\n",
    "           : accuracy: the ratio of examples that are well-classified - float\n",
    "    \"\"\" \n",
    "    ### Forward propagation\n",
    "    z = forward(W,b,X)\n",
    "    \n",
    "    ### Compute the softmax and the prediction\n",
    "    out = [softmax(zz,False) for zz in z ] \n",
    "    pred =[np.argmax(i) for i in out]\n",
    "    label =[np.argmax(i) for i in labels]\n",
    "    ### Compute the accuracy\n",
    "    correct=0\n",
    "    for i in range(len(X)):\n",
    "      if (label[i]==pred[i]):\n",
    "        correct +=1\n",
    "    accuracy = correct/len(X)\n",
    "\n",
    "    return accuracy\n"
   ]
  },
  {
   "cell_type": "markdown",
   "metadata": {
    "colab_type": "text",
    "id": "SAF_kfRCTIhe"
   },
   "source": [
    "## Preparing training\n",
    "\n",
    "The following hyperparameters are given. Next, we can assemble all the function previously defined to implement a training loop. We will train the classifier on **one epoch**, meaning that the model will see each trainin example once. "
   ]
  },
  {
   "cell_type": "code",
   "execution_count": 20,
   "metadata": {
    "colab": {},
    "colab_type": "code",
    "id": "8hpuw7euTIhf"
   },
   "outputs": [],
   "source": [
    "# Optimization\n",
    "eta = 0.01\n",
    "regularizer = None \n",
    "weight_decay = 0.0001\n",
    "epochs=3\n",
    "# Training\n",
    "log_interval = 5000\n"
   ]
  },
  {
   "cell_type": "code",
   "execution_count": 21,
   "metadata": {
    "colab": {
     "base_uri": "https://localhost:8080/",
     "height": 225
    },
    "colab_type": "code",
    "id": "6sVRjYtI1oGc",
    "outputId": "69ba70d4-5ac3-4b8b-f1e6-e6ff3aa44cec"
   },
   "outputs": [
    {
     "name": "stdout",
     "output_type": "stream",
     "text": [
      "0 0.1165 0.1248 0.01\n",
      "5000 0.8036666666666666 0.8139 0.01\n",
      "10000 0.8222 0.8327 0.01\n",
      "15000 0.8342166666666667 0.8419 0.01\n",
      "20000 0.8397 0.843 0.01\n",
      "25000 0.87125 0.873 0.01\n",
      "30000 0.8639666666666667 0.8693 0.01\n",
      "35000 0.8663166666666666 0.8643 0.01\n",
      "40000 0.8704833333333334 0.8697 0.01\n",
      "45000 0.8697 0.8679 0.01\n",
      "50000 0.8781333333333333 0.8833 0.01\n",
      "55000 0.8785166666666666 0.8775 0.01\n",
      "0 0.8798833333333334 0.8822 0.01\n",
      "5000 0.8871833333333333 0.8862 0.01\n",
      "10000 0.8845666666666666 0.8853 0.01\n",
      "15000 0.874 0.8741 0.01\n",
      "20000 0.8875166666666666 0.8844 0.01\n",
      "25000 0.88635 0.8891 0.01\n",
      "30000 0.8757166666666667 0.8738 0.01\n",
      "35000 0.89105 0.8846 0.01\n",
      "40000 0.88295 0.8795 0.01\n",
      "45000 0.8875 0.8797 0.01\n",
      "50000 0.8921666666666667 0.8934 0.01\n",
      "55000 0.8796166666666667 0.8776 0.01\n",
      "0 0.8822166666666666 0.8787 0.01\n",
      "5000 0.8933333333333333 0.8908 0.01\n",
      "10000 0.89485 0.8908 0.01\n",
      "15000 0.8826666666666667 0.8813 0.01\n",
      "20000 0.8932166666666667 0.8871 0.01\n",
      "25000 0.8777666666666667 0.8783 0.01\n",
      "30000 0.88175 0.8779 0.01\n",
      "35000 0.8848666666666667 0.8749 0.01\n",
      "40000 0.8793333333333333 0.8722 0.01\n",
      "45000 0.8896333333333334 0.8816 0.01\n",
      "50000 0.8984333333333333 0.8968 0.01\n",
      "55000 0.8877833333333334 0.883 0.01\n"
     ]
    }
   ],
   "source": [
    "# Data structures for plotting\n",
    "g_train_acc=[]\n",
    "g_valid_acc=[]\n",
    "n_training = train_images.shape[0] \n",
    "n_feature =  train_images.shape[1]\n",
    "n_labels = 10\n",
    "W, b, nb_params = initLayer(n_feature, n_labels)\n",
    "\n",
    "#######################\n",
    "### Learning process ##\n",
    "#######################\n",
    "for _ in range(epochs):\n",
    "    for j in range(n_training):\n",
    "        ### Getting the example\n",
    "        X, y = train_images[j],y_train[j]\n",
    "        ### Forward propagation\n",
    "        z = forward(W,b,X)\n",
    "\n",
    "        ### Compute the softmax\n",
    "        out = softmax(z,False)\n",
    "\n",
    "        ### Compute the gradient at the top layer\n",
    "        derror = out - y # This is o - y \n",
    "\n",
    "        ### Update the parameters\n",
    "        W, b =  update(eta, W, b, derror, X, regularizer, weight_decay)\n",
    "\n",
    "        if j % log_interval == 0:\n",
    "            ### Every log_interval examples, look at the training accuracy\n",
    "            train_accuracy = computeAcc(W, b, train_images, y_train) \n",
    "\n",
    "            ### And the testing accuracy\n",
    "            test_accuracy = computeAcc(W, b, test_images, y_test) \n",
    "\n",
    "            g_train_acc.append(train_accuracy)\n",
    "            g_valid_acc.append(test_accuracy)\n",
    "            result_line = str(int(j)) + \" \" + str(train_accuracy) + \" \" + str(test_accuracy) + \" \" + str(eta)\n",
    "            print(result_line)\n"
   ]
  },
  {
   "cell_type": "code",
   "execution_count": 30,
   "metadata": {
    "colab": {
     "base_uri": "https://localhost:8080/",
     "height": 330
    },
    "colab_type": "code",
    "id": "_N-V91VxZh1t",
    "outputId": "82a85a17-f9d7-4eac-ae70-e2fbdf351154"
   },
   "outputs": [
    {
     "name": "stdout",
     "output_type": "stream",
     "text": [
      "Best Train Accuracy :  0.9584333333333332\n",
      "Best Validation Accuracy:  0.9568000000000001\n"
     ]
    },
    {
     "data": {
      "image/png": "[encoded data removed]",
      "text/plain": [
       "<Figure size 432x288 with 1 Axes>"
      ]
     },
     "metadata": {
      "needs_background": "light"
     },
     "output_type": "display_data"
    }
   ],
   "source": [
    "index=list(range(0,log_interval*len(g_train_acc),log_interval))\n",
    "plt.plot(index, g_train_acc)\n",
    "plt.plot(index, g_valid_acc)\n",
    "plt.title('accuracy')\n",
    "plt.ylabel('accuracy')\n",
    "plt.xlabel('steps')\n",
    "plt.legend(['train score', 'test score'])\n",
    "print(\"Best Train Accuracy : \",max(g_train_acc))\n",
    "print(\"Best Validation Accuracy: \",max(g_valid_acc))"
   ]
  },
  {
   "cell_type": "markdown",
   "metadata": {
    "colab_type": "text",
    "id": "S5uAed7HaErT"
   },
   "source": [
    "## Conclusion \n",
    "The performance of the linear classifier is quite good we achieve 87.8% in training accuracy and 88.16% in validation accuracy.\n",
    "\n",
    "To increase this accuracy we  may increase the number of trainable parameters thus including some hidden layers."
   ]
  },
  {
   "cell_type": "code",
   "execution_count": 28,
   "metadata": {
    "colab": {},
    "colab_type": "code",
    "id": "sqapF7P7bAvU"
   },
   "outputs": [],
   "source": []
  },
  {
   "cell_type": "code",
   "execution_count": null,
   "metadata": {},
   "outputs": [],
   "source": []
  }
 ],
 "metadata": {
  "accelerator": "GPU",
  "colab": {
   "collapsed_sections": [],
   "name": "Ex1.ipynb",
   "provenance": []
  },
  "kernelspec": {
   "display_name": "Python 3",
   "language": "python",
   "name": "python3"
  },
  "language_info": {
   "codemirror_mode": {
    "name": "ipython",
    "version": 3
   },
   "file_extension": ".py",
   "mimetype": "text/x-python",
   "name": "python",
   "nbconvert_exporter": "python",
   "pygments_lexer": "ipython3",
   "version": "3.6.9"
  }
 },
 "nbformat": 4,
 "nbformat_minor": 1
}
